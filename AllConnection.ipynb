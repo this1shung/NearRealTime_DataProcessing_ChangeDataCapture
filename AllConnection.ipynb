{
 "cells": [
  {
   "cell_type": "code",
   "execution_count": 1,
   "metadata": {
    "metadata": {}
   },
   "outputs": [],
   "source": [
    "import os\n",
    "import time\n",
    "import datetime\n",
    "import pyspark.sql.functions as sf\n",
    "from uuid import *\n",
    "from pyspark.sql import SparkSession\n",
    "from pyspark.sql import SQLContext\n",
    "from pyspark.sql.functions import when\n",
    "from pyspark.sql.functions import col\n",
    "from pyspark.sql.types import *\n",
    "from pyspark.sql.functions import lit\n",
    "from pyspark import SparkConf, SparkContext\n",
    "from uuid import * \n",
    "from uuid import UUID\n",
    "import time_uuid \n",
    "from pyspark.sql import Row\n",
    "from pyspark.sql.functions import udf\n",
    "from pyspark.sql.functions import monotonically_increasing_id\n",
    "from pyspark.sql.window import Window as W\n"
   ]
  },
  {
   "cell_type": "code",
   "execution_count": 2,
   "metadata": {
    "metadata": {}
   },
   "outputs": [],
   "source": [
    "spark = SparkSession.builder.config('spark.jars.packages','com.datastax.spark:spark-cassandra-connector_2.12:3.1.0').getOrCreate()"
   ]
  },
  {
   "cell_type": "code",
   "execution_count": 33,
   "metadata": {
    "metadata": {}
   },
   "outputs": [],
   "source": [
    "def retrieve_company_data(url,driver,user,password):\n",
    "    sql = \"\"\"(SELECT id as job_id, company_id, group_id, campaign_id FROM job) test\"\"\"\n",
    "    company = spark.read.format('jdbc').options(url=url, driver=driver, dbtable=sql, user=user, password=password).load()\n",
    "    return company "
   ]
  },
  {
   "cell_type": "code",
   "execution_count": 30,
   "metadata": {
    "metadata": {}
   },
   "outputs": [],
   "source": [
    "host = 'localhost'\n",
    "port = '3306'\n",
    "db_name = 'storagedb'\n",
    "user = 'root'\n",
    "password = '12345678'\n",
    "url = 'jdbc:mysql://' + host + ':' + port + '/' + db_name\n",
    "driver = \"com.mysql.cj.jdbc.Driver\""
   ]
  },
  {
   "cell_type": "code",
   "execution_count": 34,
   "metadata": {
    "metadata": {}
   },
   "outputs": [],
   "source": [
    "company = retrieve_company_data(url,driver,user,password)"
   ]
  },
  {
   "cell_type": "code",
   "execution_count": 5,
   "metadata": {
    "metadata": {}
   },
   "outputs": [
    {
     "name": "stdout",
     "output_type": "stream",
     "text": [
      "+------+----------+--------+-----------+\n",
      "|job_id|company_id|group_id|campaign_id|\n",
      "+------+----------+--------+-----------+\n",
      "|     2|         1|      10|          1|\n",
      "|     3|         1|      10|          1|\n",
      "|     4|         1|      10|          1|\n",
      "|     5|         1|      10|          1|\n",
      "|     6|         1|      10|          1|\n",
      "|     7|         1|      10|          1|\n",
      "|     8|         1|      10|          1|\n",
      "|     9|         1|      10|          1|\n",
      "|    39|         1|    NULL|          1|\n",
      "|    40|         1|      10|          1|\n",
      "|    41|         1|      10|          1|\n",
      "|    42|         1|      10|          1|\n",
      "|    43|         1|    NULL|          1|\n",
      "|    44|         1|      10|          1|\n",
      "|    45|         1|      10|          1|\n",
      "|    46|         1|      10|          1|\n",
      "|    47|         1|      10|          1|\n",
      "|    48|         1|      10|          1|\n",
      "|    49|         1|      10|          1|\n",
      "|    50|         1|      10|          1|\n",
      "+------+----------+--------+-----------+\n",
      "only showing top 20 rows\n",
      "\n"
     ]
    }
   ],
   "source": [
    "company.show()"
   ]
  },
  {
   "cell_type": "code",
   "execution_count": 26,
   "metadata": {
    "metadata": {}
   },
   "outputs": [],
   "source": [
    "def get_latest_time_cassandra():\n",
    "    data = spark.read.format(\"org.apache.spark.sql.cassandra\").options(table = 'tracking',keyspace = 'mykeyspace').load()\n",
    "    cassandra_latest_time = data.agg({'ts':'max'}).take(1)[0][0]\n",
    "    return cassandra_latest_time"
   ]
  },
  {
   "cell_type": "code",
   "execution_count": 35,
   "metadata": {
    "metadata": {}
   },
   "outputs": [],
   "source": [
    "def get_mysql_latest_time(url,driver,user,password):    \n",
    "    sql = \"\"\"(select max(lasted_update_time) from events) data\"\"\"\n",
    "    mysql_time = spark.read.format('jdbc').options(url=url, driver=driver, dbtable=sql, user=user, password=password).load()\n",
    "    mysql_time = mysql_time.take(1)[0][0]\n",
    "    if mysql_time is None:\n",
    "        mysql_latest = '1998-01-01 23:59:59'\n",
    "    else :\n",
    "        mysql_latest = mysql_time.strftime('%Y-%m-%d %H:%M:%S')\n",
    "    return mysql_latest "
   ]
  },
  {
   "cell_type": "code",
   "execution_count": 41,
   "metadata": {
    "metadata": {}
   },
   "outputs": [
    {
     "name": "stdout",
     "output_type": "stream",
     "text": [
      "2023-01-14 21:56:05   2024-05-03 19:15:26\n"
     ]
    }
   ],
   "source": [
    "cassandra_time = get_latest_time_cassandra()\n",
    "mysql_time = get_mysql_latest_time(url,driver,user,password)\n",
    "print(cassandra_time,' ',mysql_time)"
   ]
  },
  {
   "cell_type": "code",
   "execution_count": 43,
   "metadata": {
    "metadata": {}
   },
   "outputs": [
    {
     "name": "stdout",
     "output_type": "stream",
     "text": [
      "No new data found\n"
     ]
    }
   ],
   "source": [
    "if cassandra_time > mysql_time : \n",
    "    print(\"main task\")\n",
    "else:\n",
    "    print(\"No new data found\")"
   ]
  },
  {
   "cell_type": "code",
   "execution_count": 4,
   "metadata": {
    "metadata": {}
   },
   "outputs": [],
   "source": [
    "from cassandra.cluster import Cluster\n",
    "from cassandra.cqlengine import columns\n",
    "from cassandra.cqlengine.models import  Model\n",
    "from cassandra.cqlengine.management import sync_table\n",
    "from cassandra.cqlengine import connection\n",
    "from cassandra.query import dict_factory\n",
    "from datetime import datetime, timedelta\n",
    "import time\n",
    "import cassandra\n",
    "import random\n",
    "import uuid\n",
    "import math\n",
    "import pandas as pd\n",
    "pd.set_option(\"display.max_rows\", None, \"display.max_columns\", None)\n",
    "import datetime\n",
    "from sqlalchemy import create_engine\n",
    "import pandas as pd\n",
    "import numpy as np\n",
    "import mysql.connector\n",
    "\n",
    "host = 'localhost'\n",
    "port = '3306'\n",
    "database = 'storagedb'\n",
    "user = 'root'\n",
    "password = '12345678'\n",
    "url = 'jdbc:mysql://' + host + ':' + port + '/' + database\n",
    "driver = \"com.mysql.cj.jdbc.Driver\"\n",
    "\n",
    "keyspace = 'mykeyspace'\n",
    "cassandra_login = 'cassandra'\n",
    "cassandra_password = 'cassandra'\n",
    "cluster = Cluster()\n",
    "session = cluster.connect(keyspace)"
   ]
  },
  {
   "cell_type": "code",
   "execution_count": 5,
   "metadata": {
    "metadata": {}
   },
   "outputs": [
    {
     "name": "stderr",
     "output_type": "stream",
     "text": [
      "C:\\Users\\hungm\\AppData\\Local\\Temp\\ipykernel_19592\\3903311637.py:5: UserWarning: pandas only supports SQLAlchemy connectable (engine/connection) or database string URI or sqlite3 DBAPI2 connection. Other DBAPI2 objects are not tested. Please consider using SQLAlchemy.\n",
      "  mysql_data = pd.read_sql(query,cnx)\n"
     ]
    }
   ],
   "source": [
    "cnx = mysql.connector.connect(user=user, password=password,\n",
    "                                        host=host,\n",
    "                                    database=database)\n",
    "query = \"\"\"select distinct(id) as publisher_id from master_publisher\"\"\"\n",
    "mysql_data = pd.read_sql(query,cnx)"
   ]
  },
  {
   "cell_type": "code",
   "execution_count": 6,
   "metadata": {
    "metadata": {}
   },
   "outputs": [
    {
     "data": {
      "text/html": [
       "<div>\n",
       "<style scoped>\n",
       "    .dataframe tbody tr th:only-of-type {\n",
       "        vertical-align: middle;\n",
       "    }\n",
       "\n",
       "    .dataframe tbody tr th {\n",
       "        vertical-align: top;\n",
       "    }\n",
       "\n",
       "    .dataframe thead th {\n",
       "        text-align: right;\n",
       "    }\n",
       "</style>\n",
       "<table border=\"1\" class=\"dataframe\">\n",
       "  <thead>\n",
       "    <tr style=\"text-align: right;\">\n",
       "      <th></th>\n",
       "      <th>publisher_id</th>\n",
       "    </tr>\n",
       "  </thead>\n",
       "  <tbody>\n",
       "    <tr>\n",
       "      <th>0</th>\n",
       "      <td>1</td>\n",
       "    </tr>\n",
       "    <tr>\n",
       "      <th>1</th>\n",
       "      <td>2</td>\n",
       "    </tr>\n",
       "    <tr>\n",
       "      <th>2</th>\n",
       "      <td>3</td>\n",
       "    </tr>\n",
       "    <tr>\n",
       "      <th>3</th>\n",
       "      <td>4</td>\n",
       "    </tr>\n",
       "    <tr>\n",
       "      <th>4</th>\n",
       "      <td>5</td>\n",
       "    </tr>\n",
       "    <tr>\n",
       "      <th>5</th>\n",
       "      <td>9</td>\n",
       "    </tr>\n",
       "    <tr>\n",
       "      <th>6</th>\n",
       "      <td>10</td>\n",
       "    </tr>\n",
       "    <tr>\n",
       "      <th>7</th>\n",
       "      <td>11</td>\n",
       "    </tr>\n",
       "    <tr>\n",
       "      <th>8</th>\n",
       "      <td>12</td>\n",
       "    </tr>\n",
       "    <tr>\n",
       "      <th>9</th>\n",
       "      <td>13</td>\n",
       "    </tr>\n",
       "    <tr>\n",
       "      <th>10</th>\n",
       "      <td>15</td>\n",
       "    </tr>\n",
       "    <tr>\n",
       "      <th>11</th>\n",
       "      <td>16</td>\n",
       "    </tr>\n",
       "    <tr>\n",
       "      <th>12</th>\n",
       "      <td>17</td>\n",
       "    </tr>\n",
       "    <tr>\n",
       "      <th>13</th>\n",
       "      <td>20</td>\n",
       "    </tr>\n",
       "    <tr>\n",
       "      <th>14</th>\n",
       "      <td>22</td>\n",
       "    </tr>\n",
       "    <tr>\n",
       "      <th>15</th>\n",
       "      <td>23</td>\n",
       "    </tr>\n",
       "    <tr>\n",
       "      <th>16</th>\n",
       "      <td>24</td>\n",
       "    </tr>\n",
       "    <tr>\n",
       "      <th>17</th>\n",
       "      <td>27</td>\n",
       "    </tr>\n",
       "    <tr>\n",
       "      <th>18</th>\n",
       "      <td>28</td>\n",
       "    </tr>\n",
       "    <tr>\n",
       "      <th>19</th>\n",
       "      <td>29</td>\n",
       "    </tr>\n",
       "    <tr>\n",
       "      <th>20</th>\n",
       "      <td>30</td>\n",
       "    </tr>\n",
       "    <tr>\n",
       "      <th>21</th>\n",
       "      <td>31</td>\n",
       "    </tr>\n",
       "    <tr>\n",
       "      <th>22</th>\n",
       "      <td>32</td>\n",
       "    </tr>\n",
       "    <tr>\n",
       "      <th>23</th>\n",
       "      <td>33</td>\n",
       "    </tr>\n",
       "    <tr>\n",
       "      <th>24</th>\n",
       "      <td>34</td>\n",
       "    </tr>\n",
       "    <tr>\n",
       "      <th>25</th>\n",
       "      <td>35</td>\n",
       "    </tr>\n",
       "    <tr>\n",
       "      <th>26</th>\n",
       "      <td>36</td>\n",
       "    </tr>\n",
       "    <tr>\n",
       "      <th>27</th>\n",
       "      <td>37</td>\n",
       "    </tr>\n",
       "    <tr>\n",
       "      <th>28</th>\n",
       "      <td>38</td>\n",
       "    </tr>\n",
       "  </tbody>\n",
       "</table>\n",
       "</div>"
      ],
      "text/plain": [
       "    publisher_id\n",
       "0              1\n",
       "1              2\n",
       "2              3\n",
       "3              4\n",
       "4              5\n",
       "5              9\n",
       "6             10\n",
       "7             11\n",
       "8             12\n",
       "9             13\n",
       "10            15\n",
       "11            16\n",
       "12            17\n",
       "13            20\n",
       "14            22\n",
       "15            23\n",
       "16            24\n",
       "17            27\n",
       "18            28\n",
       "19            29\n",
       "20            30\n",
       "21            31\n",
       "22            32\n",
       "23            33\n",
       "24            34\n",
       "25            35\n",
       "26            36\n",
       "27            37\n",
       "28            38"
      ]
     },
     "execution_count": 6,
     "metadata": {},
     "output_type": "execute_result"
    }
   ],
   "source": [
    "mysql_data"
   ]
  },
  {
   "cell_type": "code",
   "execution_count": null,
   "metadata": {},
   "outputs": [],
   "source": [
    "# def generating_dummy_data(n_records,session,user,password,host,db_name):\n",
    "#     publisher = get_data_from_publisher(user,password,host,db_name)\n",
    "#     publisher = publisher['publisher_id'].to_list()\n",
    "#     jobs_data = get_data_from_job(user,password,host,db_name)\n",
    "#     job_list = jobs_data['job_id'].to_list()\n",
    "#     campaign_list = jobs_data['campaign_id'].to_list()\n",
    "#     company_list = jobs_data['company_id'].to_list()\n",
    "#     group_list = jobs_data[jobs_data['group_id'].notnull()]['group_id'].astype(int).to_list()\n",
    "#     i = 0 \n",
    "#     fake_records = n_records\n",
    "#     while i <= fake_records:\n",
    "#         create_time = str(cassandra.util.uuid_from_time(datetime.datetime.now()))\n",
    "#         bid = random.randint(0,1)\n",
    "#         interact = ['click','conversion','qualified','unqualified']\n",
    "#         custom_track = random.choices(interact,weights=(70,10,10,10))[0]\n",
    "#         job_id = random.choice(job_list)\n",
    "#         publisher_id = random.choice(publisher)\n",
    "#         group_id = random.choice(group_list)\n",
    "#         campaign_id = random.choice(campaign_list)\n",
    "#         ts = datetime.datetime.now().strftime('%Y-%m-%d %H:%M:%S')\n",
    "#         sql = \"\"\" INSERT INTO tracking (create_time,bid,campaign_id,custom_track,group_id,job_id,publisher_id,ts) VALUES ({},{},{},'{}',{},{},{},'{}')\"\"\".format(create_time,bid,campaign_id,custom_track,group_id,job_id,publisher_id,ts)\n",
    "#         print(sql)\n",
    "#         session.execute(sql)\n",
    "#         i+=1 \n",
    "#     return print(\"Data Generated Successfully\")"
   ]
  },
  {
   "cell_type": "code",
   "execution_count": 16,
   "metadata": {
    "metadata": {}
   },
   "outputs": [],
   "source": [
    "create_time = cassandra.util.uuid_from_time(datetime.datetime.now())"
   ]
  },
  {
   "cell_type": "code",
   "execution_count": 14,
   "metadata": {
    "metadata": {}
   },
   "outputs": [
    {
     "data": {
      "text/plain": [
       "UUID('6d089af6-09a4-11ef-bb8a-7c6643f85610')"
      ]
     },
     "execution_count": 14,
     "metadata": {},
     "output_type": "execute_result"
    }
   ],
   "source": [
    "create_time"
   ]
  },
  {
   "cell_type": "code",
   "execution_count": null,
   "metadata": {},
   "outputs": [],
   "source": []
  }
 ],
 "metadata": {
  "kernelspec": {
   "display_name": "base",
   "language": "python",
   "name": "python3"
  },
  "language_info": {
   "codemirror_mode": {
    "name": "ipython",
    "version": 3
   },
   "file_extension": ".py",
   "mimetype": "text/x-python",
   "name": "python",
   "nbconvert_exporter": "python",
   "pygments_lexer": "ipython3",
   "version": "3.11.5"
  }
 },
 "nbformat": 4,
 "nbformat_minor": 2
}
